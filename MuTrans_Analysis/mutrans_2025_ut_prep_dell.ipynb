{
 "cells": [
  {
   "cell_type": "markdown",
   "metadata": {},
   "source": [
    "February 2025\n",
    "# MuTrans script: untreated samples"
   ]
  },
  {
   "cell_type": "code",
   "execution_count": 2,
   "metadata": {},
   "outputs": [
    {
     "name": "stdout",
     "output_type": "stream",
     "text": [
      "Current directory: /data/rds/DMP/DUDMP/PAEDCANC/echen/MuTrans-release-main/Example\n"
     ]
    }
   ],
   "source": [
    "import sys\n",
    "import os\n",
    "\n",
    "print(f\"Current directory: {os.getcwd()}\")\n",
    "#os.chdir(\"Z:\\echen\\MuTrans-release-main\\Example\")\n",
    "#print(f\"Changed directory: {os.getcwd()}\")\n",
    "\n",
    "import pandas as pd\n",
    "import numpy as np\n",
    "import anndata as ad\n",
    "import scanpy as sc\n",
    "import seaborn as sns\n",
    "import hdf5plugin\n",
    "import gc\n",
    "\n",
    "import matplotlib.pyplot as plt\n",
    "import pyMuTrans as pm\n",
    "\n",
    "import matlab\n",
    "import matlab.engine\n",
    "\n",
    "sc.settings.set_figure_params(dpi=100, frameon=False)\n",
    "\n",
    "datadir = \"data_2025_ut/\"\n",
    "plotdir = \"../plots/2025_ut/\""
   ]
  },
  {
   "cell_type": "code",
   "execution_count": 2,
   "metadata": {},
   "outputs": [
    {
     "name": "stdout",
     "output_type": "stream",
     "text": [
      "data_2025_ut/grnb5_seurat.h5ad\n",
      "data_2025_ut/nb039_seurat.h5ad\n",
      "data_2025_ut/nb039_ut_scanpy.h5ad\n",
      "data_2025_ut/nb039_ut_scanpy_nn.h5ad\n",
      "data_2025_ut/nb067_seurat.h5ad\n",
      "data_2025_ut/nb067_ut_scanpy.h5ad\n",
      "data_2025_ut/nb067_ut_scanpy_nn.h5ad\n",
      "data_2025_ut/shep_seurat.h5ad\n",
      "data_2025_ut/shep_ut_scanpy.h5ad\n",
      "data_2025_ut/shep_ut_scanpy_nn.h5ad\n",
      "data_2025_ut/shsy5y_seurat.h5ad\n",
      "data_2025_ut/shsy5y_ut_scanpy.h5ad\n",
      "data_2025_ut/shsy5y_ut_scanpy_nn.h5ad\n",
      "data_2025_ut/sknsh_seurat.h5ad\n",
      "data_2025_ut/sknsh_ut_scanpy.h5ad\n",
      "data_2025_ut/sknsh_ut_scanpy_nn.h5ad\n"
     ]
    }
   ],
   "source": [
    "for filename in os.listdir(datadir):\n",
    "    file_path = os.path.join(datadir, filename)\n",
    "    print(file_path)"
   ]
  },
  {
   "cell_type": "code",
   "execution_count": 16,
   "metadata": {},
   "outputs": [
    {
     "data": {
      "text/plain": [
       "84318"
      ]
     },
     "execution_count": 16,
     "metadata": {},
     "output_type": "execute_result"
    }
   ],
   "source": [
    "gc.collect()"
   ]
  },
  {
   "cell_type": "code",
   "execution_count": null,
   "metadata": {},
   "outputs": [
    {
     "name": "stdout",
     "output_type": "stream",
     "text": [
      "data_2025_ut/grnb5_seurat.h5ad\n",
      "Processing grnb5_seurat.h5ad...\n",
      "Raw counts added for grnb5\n",
      "   0      1      2      3      4      5      6      7      8      9      ...  \\\n",
      "0    0.0    0.0    2.0    0.0    0.0    0.0    0.0    1.0    0.0    0.0  ...   \n",
      "1    0.0    0.0    0.0    0.0    0.0    0.0    0.0    0.0    0.0    2.0  ...   \n",
      "2    0.0    1.0    0.0    0.0    0.0    0.0    0.0    0.0    0.0    0.0  ...   \n",
      "3    1.0    0.0    0.0    0.0    0.0    0.0    0.0    0.0    0.0    1.0  ...   \n",
      "4    0.0    1.0    1.0    0.0    0.0    0.0    0.0    0.0    0.0    0.0  ...   \n",
      "5    0.0    0.0    0.0    0.0    0.0    0.0    0.0    1.0    0.0    0.0  ...   \n",
      "6    0.0    0.0    0.0    0.0    0.0    0.0    0.0    0.0    1.0    0.0  ...   \n",
      "7    0.0    0.0    0.0    0.0    0.0    0.0    0.0    0.0    0.0    0.0  ...   \n",
      "8    0.0    0.0    0.0    0.0    0.0    0.0    0.0    0.0    0.0    0.0  ...   \n",
      "9    0.0    0.0    0.0    0.0    0.0    0.0    0.0    0.0    0.0    0.0  ...   \n",
      "\n",
      "   21999  22000  22001  22002  22003  22004  22005  22006  22007  22008  \n",
      "0    0.0    0.0    0.0    0.0    0.0    0.0    0.0    0.0    0.0    0.0  \n",
      "1    0.0    0.0    0.0    0.0    0.0    0.0    0.0    0.0    0.0    0.0  \n",
      "2    0.0    0.0    0.0    0.0    0.0    0.0    0.0    0.0    0.0    0.0  \n",
      "3    0.0    0.0    0.0    0.0    0.0    0.0    0.0    0.0    0.0    0.0  \n",
      "4    0.0    0.0    0.0    0.0    0.0    0.0    0.0    0.0    0.0    0.0  \n",
      "5    0.0    0.0    0.0    0.0    0.0    0.0    0.0    0.0    0.0    0.0  \n",
      "6    0.0    0.0    0.0    0.0    0.0    0.0    0.0    0.0    0.0    0.0  \n",
      "7    0.0    0.0    0.0    0.0    0.0    0.0    0.0    0.0    0.0    0.0  \n",
      "8    0.0    0.0    0.0    0.0    0.0    0.0    0.0    0.0    0.0    0.0  \n",
      "9    0.0    0.0    0.0    0.0    0.0    0.0    0.0    0.0    0.0    0.0  \n",
      "\n",
      "[10 rows x 22009 columns]\n",
      "Beginning preprocessing of grnb5 AnnData object\n",
      "Normalising and scaling grnb5 data\n"
     ]
    },
    {
     "name": "stderr",
     "output_type": "stream",
     "text": [
      "c:\\Users\\echen\\Anaconda3\\envs\\mutrans\\lib\\site-packages\\anndata\\_core\\anndata.py:1294: ImplicitModificationWarning: Trying to modify attribute `.obs` of view, initializing view as actual.\n",
      "  df[key] = c\n",
      "c:\\Users\\echen\\Anaconda3\\envs\\mutrans\\lib\\site-packages\\anndata\\_core\\anndata.py:1294: ImplicitModificationWarning: Trying to modify attribute `.obs` of view, initializing view as actual.\n",
      "  df[key] = c\n",
      "c:\\Users\\echen\\Anaconda3\\envs\\mutrans\\lib\\site-packages\\anndata\\_core\\anndata.py:1294: ImplicitModificationWarning: Trying to modify attribute `.obs` of view, initializing view as actual.\n",
      "  df[key] = c\n"
     ]
    },
    {
     "ename": "MemoryError",
     "evalue": "Unable to allocate 284. MiB for an array with shape (74347860,) and data type int32",
     "output_type": "error",
     "traceback": [
      "\u001b[1;31m---------------------------------------------------------------------------\u001b[0m",
      "\u001b[1;31mMemoryError\u001b[0m                               Traceback (most recent call last)",
      "Cell \u001b[1;32mIn[17], line 33\u001b[0m\n\u001b[0;32m     31\u001b[0m adata\u001b[38;5;241m.\u001b[39mraw \u001b[38;5;241m=\u001b[39m adata\n\u001b[0;32m     32\u001b[0m adata \u001b[38;5;241m=\u001b[39m adata[:, adata\u001b[38;5;241m.\u001b[39mvar\u001b[38;5;241m.\u001b[39mhighly_variable]\n\u001b[1;32m---> 33\u001b[0m \u001b[43msc\u001b[49m\u001b[38;5;241;43m.\u001b[39;49m\u001b[43mpp\u001b[49m\u001b[38;5;241;43m.\u001b[39;49m\u001b[43mregress_out\u001b[49m\u001b[43m(\u001b[49m\u001b[43madata\u001b[49m\u001b[43m,\u001b[49m\u001b[43m \u001b[49m\u001b[43m[\u001b[49m\u001b[38;5;124;43m'\u001b[39;49m\u001b[38;5;124;43mtotal_counts\u001b[39;49m\u001b[38;5;124;43m'\u001b[39;49m\u001b[43m,\u001b[49m\u001b[43m \u001b[49m\u001b[38;5;124;43m'\u001b[39;49m\u001b[38;5;124;43mpct_counts_mt\u001b[39;49m\u001b[38;5;124;43m'\u001b[39;49m\u001b[43m]\u001b[49m\u001b[43m)\u001b[49m\n\u001b[0;32m     34\u001b[0m sc\u001b[38;5;241m.\u001b[39mpp\u001b[38;5;241m.\u001b[39mscale(adata, max_value \u001b[38;5;241m=\u001b[39m \u001b[38;5;241m10\u001b[39m)\n\u001b[0;32m     36\u001b[0m \u001b[38;5;28mprint\u001b[39m(\u001b[38;5;124mf\u001b[39m\u001b[38;5;124m\"\u001b[39m\u001b[38;5;124mReducing dimensions on \u001b[39m\u001b[38;5;132;01m{\u001b[39;00msample_name\u001b[38;5;132;01m}\u001b[39;00m\u001b[38;5;124m\"\u001b[39m)\n",
      "File \u001b[1;32mc:\\Users\\echen\\Anaconda3\\envs\\mutrans\\lib\\site-packages\\scanpy\\preprocessing\\_simple.py:604\u001b[0m, in \u001b[0;36mregress_out\u001b[1;34m(adata, keys, n_jobs, copy)\u001b[0m\n\u001b[0;32m    601\u001b[0m     logg\u001b[38;5;241m.\u001b[39minfo(\u001b[38;5;124m'\u001b[39m\u001b[38;5;124m    sparse input is densified and may \u001b[39m\u001b[38;5;124m'\u001b[39m \u001b[38;5;124m'\u001b[39m\u001b[38;5;124mlead to high memory use\u001b[39m\u001b[38;5;124m'\u001b[39m)\n\u001b[0;32m    602\u001b[0m adata \u001b[38;5;241m=\u001b[39m adata\u001b[38;5;241m.\u001b[39mcopy() \u001b[38;5;28;01mif\u001b[39;00m copy \u001b[38;5;28;01melse\u001b[39;00m adata\n\u001b[1;32m--> 604\u001b[0m \u001b[43msanitize_anndata\u001b[49m\u001b[43m(\u001b[49m\u001b[43madata\u001b[49m\u001b[43m)\u001b[49m\n\u001b[0;32m    606\u001b[0m \u001b[38;5;66;03m# TODO: This should throw an implicit modification warning\u001b[39;00m\n\u001b[0;32m    607\u001b[0m \u001b[38;5;28;01mif\u001b[39;00m adata\u001b[38;5;241m.\u001b[39mis_view:\n",
      "File \u001b[1;32mc:\\Users\\echen\\Anaconda3\\envs\\mutrans\\lib\\site-packages\\scanpy\\_utils\\__init__.py:406\u001b[0m, in \u001b[0;36msanitize_anndata\u001b[1;34m(adata)\u001b[0m\n\u001b[0;32m    404\u001b[0m \u001b[38;5;28;01mdef\u001b[39;00m \u001b[38;5;21msanitize_anndata\u001b[39m(adata):\n\u001b[0;32m    405\u001b[0m \u001b[38;5;250m    \u001b[39m\u001b[38;5;124;03m\"\"\"Transform string annotations to categoricals.\"\"\"\u001b[39;00m\n\u001b[1;32m--> 406\u001b[0m     \u001b[43madata\u001b[49m\u001b[38;5;241;43m.\u001b[39;49m\u001b[43m_sanitize\u001b[49m\u001b[43m(\u001b[49m\u001b[43m)\u001b[49m\n",
      "File \u001b[1;32mc:\\Users\\echen\\Anaconda3\\envs\\mutrans\\lib\\site-packages\\anndata\\_core\\anndata.py:1294\u001b[0m, in \u001b[0;36mAnnData.strings_to_categoricals\u001b[1;34m(self, df)\u001b[0m\n\u001b[0;32m   1288\u001b[0m \u001b[38;5;28;01mif\u001b[39;00m dont_modify:\n\u001b[0;32m   1289\u001b[0m     \u001b[38;5;28;01mraise\u001b[39;00m \u001b[38;5;167;01mRuntimeError\u001b[39;00m(\n\u001b[0;32m   1290\u001b[0m         \u001b[38;5;124m\"\u001b[39m\u001b[38;5;124mPlease call `.strings_to_categoricals()` on full \u001b[39m\u001b[38;5;124m\"\u001b[39m\n\u001b[0;32m   1291\u001b[0m         \u001b[38;5;124m\"\u001b[39m\u001b[38;5;124mAnnData, not on this view. You might encounter this\u001b[39m\u001b[38;5;124m\"\u001b[39m\n\u001b[0;32m   1292\u001b[0m         \u001b[38;5;124m\"\u001b[39m\u001b[38;5;124merror message while copying or writing to disk.\u001b[39m\u001b[38;5;124m\"\u001b[39m\n\u001b[0;32m   1293\u001b[0m     )\n\u001b[1;32m-> 1294\u001b[0m \u001b[43mdf\u001b[49m\u001b[43m[\u001b[49m\u001b[43mkey\u001b[49m\u001b[43m]\u001b[49m \u001b[38;5;241m=\u001b[39m c\n\u001b[0;32m   1295\u001b[0m logger\u001b[38;5;241m.\u001b[39minfo(\u001b[38;5;124mf\u001b[39m\u001b[38;5;124m\"\u001b[39m\u001b[38;5;124m... storing \u001b[39m\u001b[38;5;132;01m{\u001b[39;00mkey\u001b[38;5;132;01m!r}\u001b[39;00m\u001b[38;5;124m as categorical\u001b[39m\u001b[38;5;124m\"\u001b[39m)\n",
      "File \u001b[1;32mc:\\Users\\echen\\Anaconda3\\envs\\mutrans\\lib\\site-packages\\anndata\\_core\\views.py:78\u001b[0m, in \u001b[0;36m_SetItemMixin.__setitem__\u001b[1;34m(self, idx, value)\u001b[0m\n\u001b[0;32m     71\u001b[0m \u001b[38;5;28;01melse\u001b[39;00m:\n\u001b[0;32m     72\u001b[0m     warnings\u001b[38;5;241m.\u001b[39mwarn(\n\u001b[0;32m     73\u001b[0m         \u001b[38;5;124mf\u001b[39m\u001b[38;5;124m\"\u001b[39m\u001b[38;5;124mTrying to modify attribute `.\u001b[39m\u001b[38;5;132;01m{\u001b[39;00m\u001b[38;5;28mself\u001b[39m\u001b[38;5;241m.\u001b[39m_view_args\u001b[38;5;241m.\u001b[39mattrname\u001b[38;5;132;01m}\u001b[39;00m\u001b[38;5;124m` of view, \u001b[39m\u001b[38;5;124m\"\u001b[39m\n\u001b[0;32m     74\u001b[0m         \u001b[38;5;124m\"\u001b[39m\u001b[38;5;124minitializing view as actual.\u001b[39m\u001b[38;5;124m\"\u001b[39m,\n\u001b[0;32m     75\u001b[0m         ImplicitModificationWarning,\n\u001b[0;32m     76\u001b[0m         stacklevel\u001b[38;5;241m=\u001b[39m\u001b[38;5;241m2\u001b[39m,\n\u001b[0;32m     77\u001b[0m     )\n\u001b[1;32m---> 78\u001b[0m     \u001b[38;5;28;01mwith\u001b[39;00m view_update(\u001b[38;5;241m*\u001b[39m\u001b[38;5;28mself\u001b[39m\u001b[38;5;241m.\u001b[39m_view_args) \u001b[38;5;28;01mas\u001b[39;00m container:\n\u001b[0;32m     79\u001b[0m         container[idx] \u001b[38;5;241m=\u001b[39m value\n",
      "File \u001b[1;32mc:\\Users\\echen\\Anaconda3\\envs\\mutrans\\lib\\contextlib.py:135\u001b[0m, in \u001b[0;36m_GeneratorContextManager.__enter__\u001b[1;34m(self)\u001b[0m\n\u001b[0;32m    133\u001b[0m \u001b[38;5;28;01mdel\u001b[39;00m \u001b[38;5;28mself\u001b[39m\u001b[38;5;241m.\u001b[39margs, \u001b[38;5;28mself\u001b[39m\u001b[38;5;241m.\u001b[39mkwds, \u001b[38;5;28mself\u001b[39m\u001b[38;5;241m.\u001b[39mfunc\n\u001b[0;32m    134\u001b[0m \u001b[38;5;28;01mtry\u001b[39;00m:\n\u001b[1;32m--> 135\u001b[0m     \u001b[38;5;28;01mreturn\u001b[39;00m \u001b[38;5;28;43mnext\u001b[39;49m\u001b[43m(\u001b[49m\u001b[38;5;28;43mself\u001b[39;49m\u001b[38;5;241;43m.\u001b[39;49m\u001b[43mgen\u001b[49m\u001b[43m)\u001b[49m\n\u001b[0;32m    136\u001b[0m \u001b[38;5;28;01mexcept\u001b[39;00m \u001b[38;5;167;01mStopIteration\u001b[39;00m:\n\u001b[0;32m    137\u001b[0m     \u001b[38;5;28;01mraise\u001b[39;00m \u001b[38;5;167;01mRuntimeError\u001b[39;00m(\u001b[38;5;124m\"\u001b[39m\u001b[38;5;124mgenerator didn\u001b[39m\u001b[38;5;124m'\u001b[39m\u001b[38;5;124mt yield\u001b[39m\u001b[38;5;124m\"\u001b[39m) \u001b[38;5;28;01mfrom\u001b[39;00m \u001b[38;5;28;01mNone\u001b[39;00m\n",
      "File \u001b[1;32mc:\\Users\\echen\\Anaconda3\\envs\\mutrans\\lib\\site-packages\\anndata\\_core\\views.py:52\u001b[0m, in \u001b[0;36mview_update\u001b[1;34m(adata_view, attr_name, keys)\u001b[0m\n\u001b[0;32m     32\u001b[0m \u001b[38;5;129m@contextmanager\u001b[39m\n\u001b[0;32m     33\u001b[0m \u001b[38;5;28;01mdef\u001b[39;00m \u001b[38;5;21mview_update\u001b[39m(adata_view: AnnData, attr_name: \u001b[38;5;28mstr\u001b[39m, keys: \u001b[38;5;28mtuple\u001b[39m[\u001b[38;5;28mstr\u001b[39m, \u001b[38;5;241m.\u001b[39m\u001b[38;5;241m.\u001b[39m\u001b[38;5;241m.\u001b[39m]):\n\u001b[0;32m     34\u001b[0m \u001b[38;5;250m    \u001b[39m\u001b[38;5;124;03m\"\"\"Context manager for updating a view of an AnnData object.\u001b[39;00m\n\u001b[0;32m     35\u001b[0m \n\u001b[0;32m     36\u001b[0m \u001b[38;5;124;03m    Contains logic for \"actualizing\" a view. Yields the object to be modified in-place.\u001b[39;00m\n\u001b[1;32m   (...)\u001b[0m\n\u001b[0;32m     50\u001b[0m \u001b[38;5;124;03m    `adata.attr[key1][key2][keyn]...`\u001b[39;00m\n\u001b[0;32m     51\u001b[0m \u001b[38;5;124;03m    \"\"\"\u001b[39;00m\n\u001b[1;32m---> 52\u001b[0m     new \u001b[38;5;241m=\u001b[39m \u001b[43madata_view\u001b[49m\u001b[38;5;241;43m.\u001b[39;49m\u001b[43mcopy\u001b[49m\u001b[43m(\u001b[49m\u001b[43m)\u001b[49m\n\u001b[0;32m     53\u001b[0m     attr \u001b[38;5;241m=\u001b[39m \u001b[38;5;28mgetattr\u001b[39m(new, attr_name)\n\u001b[0;32m     54\u001b[0m     container \u001b[38;5;241m=\u001b[39m reduce(\u001b[38;5;28;01mlambda\u001b[39;00m d, k: d[k], keys, attr)\n",
      "File \u001b[1;32mc:\\Users\\echen\\Anaconda3\\envs\\mutrans\\lib\\site-packages\\anndata\\_core\\anndata.py:1586\u001b[0m, in \u001b[0;36mAnnData.copy\u001b[1;34m(self, filename)\u001b[0m\n\u001b[0;32m   1582\u001b[0m         \u001b[38;5;28;01mreturn\u001b[39;00m \u001b[38;5;28mself\u001b[39m\u001b[38;5;241m.\u001b[39m_mutated_copy(\n\u001b[0;32m   1583\u001b[0m             X\u001b[38;5;241m=\u001b[39m_subset(\u001b[38;5;28mself\u001b[39m\u001b[38;5;241m.\u001b[39m_adata_ref\u001b[38;5;241m.\u001b[39mX, (\u001b[38;5;28mself\u001b[39m\u001b[38;5;241m.\u001b[39m_oidx, \u001b[38;5;28mself\u001b[39m\u001b[38;5;241m.\u001b[39m_vidx))\u001b[38;5;241m.\u001b[39mcopy()\n\u001b[0;32m   1584\u001b[0m         )\n\u001b[0;32m   1585\u001b[0m     \u001b[38;5;28;01melse\u001b[39;00m:\n\u001b[1;32m-> 1586\u001b[0m         \u001b[38;5;28;01mreturn\u001b[39;00m \u001b[38;5;28;43mself\u001b[39;49m\u001b[38;5;241;43m.\u001b[39;49m\u001b[43m_mutated_copy\u001b[49m\u001b[43m(\u001b[49m\u001b[43m)\u001b[49m\n\u001b[0;32m   1587\u001b[0m \u001b[38;5;28;01melse\u001b[39;00m:\n\u001b[0;32m   1588\u001b[0m     \u001b[38;5;28;01mfrom\u001b[39;00m \u001b[38;5;21;01m.\u001b[39;00m\u001b[38;5;21;01m.\u001b[39;00m\u001b[38;5;21;01m_io\u001b[39;00m \u001b[38;5;28;01mimport\u001b[39;00m read_h5ad, write_h5ad\n",
      "File \u001b[1;32mc:\\Users\\echen\\Anaconda3\\envs\\mutrans\\lib\\site-packages\\anndata\\_core\\anndata.py:1526\u001b[0m, in \u001b[0;36mAnnData._mutated_copy\u001b[1;34m(self, **kwargs)\u001b[0m\n\u001b[0;32m   1524\u001b[0m     new[\u001b[38;5;124m\"\u001b[39m\u001b[38;5;124mraw\u001b[39m\u001b[38;5;124m\"\u001b[39m] \u001b[38;5;241m=\u001b[39m kwargs[\u001b[38;5;124m\"\u001b[39m\u001b[38;5;124mraw\u001b[39m\u001b[38;5;124m\"\u001b[39m]\n\u001b[0;32m   1525\u001b[0m \u001b[38;5;28;01melif\u001b[39;00m \u001b[38;5;28mself\u001b[39m\u001b[38;5;241m.\u001b[39mraw \u001b[38;5;129;01mis\u001b[39;00m \u001b[38;5;129;01mnot\u001b[39;00m \u001b[38;5;28;01mNone\u001b[39;00m:\n\u001b[1;32m-> 1526\u001b[0m     new[\u001b[38;5;124m\"\u001b[39m\u001b[38;5;124mraw\u001b[39m\u001b[38;5;124m\"\u001b[39m] \u001b[38;5;241m=\u001b[39m \u001b[38;5;28;43mself\u001b[39;49m\u001b[38;5;241;43m.\u001b[39;49m\u001b[43mraw\u001b[49m\u001b[38;5;241;43m.\u001b[39;49m\u001b[43mcopy\u001b[49m\u001b[43m(\u001b[49m\u001b[43m)\u001b[49m\n\u001b[0;32m   1527\u001b[0m \u001b[38;5;28;01mreturn\u001b[39;00m AnnData(\u001b[38;5;241m*\u001b[39m\u001b[38;5;241m*\u001b[39mnew)\n",
      "File \u001b[1;32mc:\\Users\\echen\\Anaconda3\\envs\\mutrans\\lib\\site-packages\\anndata\\_core\\raw.py:151\u001b[0m, in \u001b[0;36mRaw.copy\u001b[1;34m(self)\u001b[0m\n\u001b[0;32m    148\u001b[0m \u001b[38;5;28;01mdef\u001b[39;00m \u001b[38;5;21mcopy\u001b[39m(\u001b[38;5;28mself\u001b[39m):\n\u001b[0;32m    149\u001b[0m     \u001b[38;5;28;01mreturn\u001b[39;00m Raw(\n\u001b[0;32m    150\u001b[0m         \u001b[38;5;28mself\u001b[39m\u001b[38;5;241m.\u001b[39m_adata,\n\u001b[1;32m--> 151\u001b[0m         X\u001b[38;5;241m=\u001b[39m\u001b[38;5;28;43mself\u001b[39;49m\u001b[38;5;241;43m.\u001b[39;49m\u001b[43mX\u001b[49m\u001b[38;5;241;43m.\u001b[39;49m\u001b[43mcopy\u001b[49m\u001b[43m(\u001b[49m\u001b[43m)\u001b[49m,\n\u001b[0;32m    152\u001b[0m         var\u001b[38;5;241m=\u001b[39m\u001b[38;5;28mself\u001b[39m\u001b[38;5;241m.\u001b[39mvar\u001b[38;5;241m.\u001b[39mcopy(),\n\u001b[0;32m    153\u001b[0m         varm\u001b[38;5;241m=\u001b[39m\u001b[38;5;28;01mNone\u001b[39;00m \u001b[38;5;28;01mif\u001b[39;00m \u001b[38;5;28mself\u001b[39m\u001b[38;5;241m.\u001b[39m_varm \u001b[38;5;129;01mis\u001b[39;00m \u001b[38;5;28;01mNone\u001b[39;00m \u001b[38;5;28;01melse\u001b[39;00m \u001b[38;5;28mself\u001b[39m\u001b[38;5;241m.\u001b[39m_varm\u001b[38;5;241m.\u001b[39mcopy(),\n\u001b[0;32m    154\u001b[0m     )\n",
      "File \u001b[1;32mc:\\Users\\echen\\Anaconda3\\envs\\mutrans\\lib\\site-packages\\scipy\\sparse\\_data.py:94\u001b[0m, in \u001b[0;36m_data_matrix.copy\u001b[1;34m(self)\u001b[0m\n\u001b[0;32m     93\u001b[0m \u001b[38;5;28;01mdef\u001b[39;00m \u001b[38;5;21mcopy\u001b[39m(\u001b[38;5;28mself\u001b[39m):\n\u001b[1;32m---> 94\u001b[0m     \u001b[38;5;28;01mreturn\u001b[39;00m \u001b[38;5;28;43mself\u001b[39;49m\u001b[38;5;241;43m.\u001b[39;49m\u001b[43m_with_data\u001b[49m\u001b[43m(\u001b[49m\u001b[38;5;28;43mself\u001b[39;49m\u001b[38;5;241;43m.\u001b[39;49m\u001b[43mdata\u001b[49m\u001b[38;5;241;43m.\u001b[39;49m\u001b[43mcopy\u001b[49m\u001b[43m(\u001b[49m\u001b[43m)\u001b[49m\u001b[43m,\u001b[49m\u001b[43m \u001b[49m\u001b[43mcopy\u001b[49m\u001b[38;5;241;43m=\u001b[39;49m\u001b[38;5;28;43;01mTrue\u001b[39;49;00m\u001b[43m)\u001b[49m\n",
      "File \u001b[1;32mc:\\Users\\echen\\Anaconda3\\envs\\mutrans\\lib\\site-packages\\scipy\\sparse\\_compressed.py:1229\u001b[0m, in \u001b[0;36m_cs_matrix._with_data\u001b[1;34m(self, data, copy)\u001b[0m\n\u001b[0;32m   1224\u001b[0m \u001b[38;5;250m\u001b[39m\u001b[38;5;124;03m\"\"\"Returns a matrix with the same sparsity structure as self,\u001b[39;00m\n\u001b[0;32m   1225\u001b[0m \u001b[38;5;124;03mbut with different data.  By default the structure arrays\u001b[39;00m\n\u001b[0;32m   1226\u001b[0m \u001b[38;5;124;03m(i.e. .indptr and .indices) are copied.\u001b[39;00m\n\u001b[0;32m   1227\u001b[0m \u001b[38;5;124;03m\"\"\"\u001b[39;00m\n\u001b[0;32m   1228\u001b[0m \u001b[38;5;28;01mif\u001b[39;00m copy:\n\u001b[1;32m-> 1229\u001b[0m     \u001b[38;5;28;01mreturn\u001b[39;00m \u001b[38;5;28mself\u001b[39m\u001b[38;5;241m.\u001b[39m\u001b[38;5;18m__class__\u001b[39m((data, \u001b[38;5;28;43mself\u001b[39;49m\u001b[38;5;241;43m.\u001b[39;49m\u001b[43mindices\u001b[49m\u001b[38;5;241;43m.\u001b[39;49m\u001b[43mcopy\u001b[49m\u001b[43m(\u001b[49m\u001b[43m)\u001b[49m,\n\u001b[0;32m   1230\u001b[0m                            \u001b[38;5;28mself\u001b[39m\u001b[38;5;241m.\u001b[39mindptr\u001b[38;5;241m.\u001b[39mcopy()),\n\u001b[0;32m   1231\u001b[0m                           shape\u001b[38;5;241m=\u001b[39m\u001b[38;5;28mself\u001b[39m\u001b[38;5;241m.\u001b[39mshape,\n\u001b[0;32m   1232\u001b[0m                           dtype\u001b[38;5;241m=\u001b[39mdata\u001b[38;5;241m.\u001b[39mdtype)\n\u001b[0;32m   1233\u001b[0m \u001b[38;5;28;01melse\u001b[39;00m:\n\u001b[0;32m   1234\u001b[0m     \u001b[38;5;28;01mreturn\u001b[39;00m \u001b[38;5;28mself\u001b[39m\u001b[38;5;241m.\u001b[39m\u001b[38;5;18m__class__\u001b[39m((data, \u001b[38;5;28mself\u001b[39m\u001b[38;5;241m.\u001b[39mindices, \u001b[38;5;28mself\u001b[39m\u001b[38;5;241m.\u001b[39mindptr),\n\u001b[0;32m   1235\u001b[0m                           shape\u001b[38;5;241m=\u001b[39m\u001b[38;5;28mself\u001b[39m\u001b[38;5;241m.\u001b[39mshape, dtype\u001b[38;5;241m=\u001b[39mdata\u001b[38;5;241m.\u001b[39mdtype)\n",
      "\u001b[1;31mMemoryError\u001b[0m: Unable to allocate 284. MiB for an array with shape (74347860,) and data type int32"
     ]
    },
    {
     "ename": "",
     "evalue": "",
     "output_type": "error",
     "traceback": [
      "\u001b[1;31mThe Kernel crashed while executing code in the current cell or a previous cell. \n",
      "\u001b[1;31mPlease review the code in the cell(s) to identify a possible cause of the failure. \n",
      "\u001b[1;31mClick <a href='https://aka.ms/vscodeJupyterKernelCrash'>here</a> for more info. \n",
      "\u001b[1;31mView Jupyter <a href='command:jupyter.viewOutput'>log</a> for further details."
     ]
    }
   ],
   "source": [
    "filename = \"grnb5_seurat.h5ad\"\n",
    "file_path = os.path.join(datadir, filename)\n",
    "print(file_path)\n",
    "sample_name = filename.replace(\"_seurat.h5ad\", \"\")\n",
    "print(f\"Processing {filename}...\")\n",
    "        \n",
    "adata = sc.read_h5ad(file_path)\n",
    "adata.obs = adata.obs[['Sample', 'Barcode', 'batch', 'description',\n",
    "                       'Condition', 'Rec', 'seurat_clusters.0.4',\n",
    "                       'MES.Sig', 'ADRN.Sig', 'AMT.Sig',\n",
    "                       'AMT.score', 'AMT.state']]\n",
    "adata.obsm = []\n",
    "        \n",
    "df = pd.DataFrame.sparse.from_spmatrix(adata.X)\n",
    "print(f\"Raw counts added for {sample_name}\")\n",
    "print(df.head(10))\n",
    "        \n",
    "print(f\"Beginning preprocessing of {sample_name} AnnData object\")\n",
    "adata.var['mt'] = adata.var_names.str.startswith('MT-')\n",
    "sc.pp.calculate_qc_metrics(adata, qc_vars = ['mt'], percent_top = None, log1p = False, inplace = True)\n",
    "        \n",
    "print(f\"Normalising and scaling {sample_name} data\")\n",
    "sc.pp.normalize_total(adata, target_sum = 1e4)\n",
    "sc.pp.log1p(adata)\n",
    "        \n",
    "sc.pp.highly_variable_genes(adata, min_mean = 0.0125, max_mean = 3, min_disp = 0.5)\n",
    "sc.pl.highly_variable_genes(adata, show = False)\n",
    "plt.savefig(f\"{plotdir}{sample_name}_hvgs.png\")\n",
    "plt.close()       \n",
    "\n",
    "adata.raw = adata\n",
    "adata = adata[:, adata.var.highly_variable]\n",
    "sc.pp.regress_out(adata, ['total_counts', 'pct_counts_mt'])\n",
    "sc.pp.scale(adata, max_value = 10)\n",
    "        \n",
    "print(f\"Reducing dimensions on {sample_name}\")\n",
    "sc.tl.pca(adata, svd_solver = 'arpack')\n",
    "sc.pl.pca(adata, color = ['PHOX2B','PRRX1'], show = False)\n",
    "plt.savefig(f\"{plotdir}{sample_name}_pca_phox2b_prrx1.png\")\n",
    "plt.close()\n",
    "sc.pl.pca_variance_ratio(adata, log = True, show = False)\n",
    "plt.savefig(f\"{plotdir}{sample_name}_pca_variance.png\")\n",
    "plt.close() \n",
    "\n",
    "sc.pp.neighbors(adata, n_neighbors = 10, n_pcs = 40)\n",
    "sc.tl.umap(adata)\n",
    "sc.pl.umap(adata, color = ['PHOX2B', 'PRRX1'], show = False)\n",
    "plt.savefig(f\"{plotdir}{sample_name}_umap_phox2b_prrx1.png\")\n",
    "plt.close()\n",
    "\n",
    "print(f\"Clustering {sample_name} data\")\n",
    "sc.tl.leiden(adata, resolution = 0.2)\n",
    "sc.pl.umap(adata, color = 'leiden', show = False)\n",
    "plt.savefig(f\"{plotdir}{sample_name}_umap_clusters.png\")\n",
    "plt.close()\n",
    "\n",
    "adata.write_h5ad(\n",
    "    f\"{datadir}{sample_name}_ut_scanpy.h5ad\",\n",
    "    compression = hdf5plugin.FILTERS[\"zstd\"]\n",
    ")\n",
    "print(f\"Saved clustered {sample_name} data\")\n",
    "        \n",
    "sc.tl.rank_genes_groups(adata, 'leiden', method = 'wilcoxon')\n",
    "sc.pl.rank_genes_groups(adata, n_genes = 25, sharey = False, show = False)\n",
    "plt.savefig(f\"{plotdir}{sample_name}_cluster_markers.png\")\n",
    "plt.close()\n",
    "\n",
    "sc.tl.paga(adata, groups = 'leiden')\n",
    "sc.pl.paga(adata, show = False)\n",
    "plt.savefig(f\"{plotdir}{sample_name}_paga.png\")\n",
    "plt.close()\n",
    "sc.pl.paga(adata, color=['PHOX2B', 'PRRX1'], show = False)\n",
    "plt.savefig(f\"{plotdir}{sample_name}_paga_phox2b_prrx1.png\")\n",
    "plt.close()\n",
    "\n",
    "print(\"Preparing data for MuTrans\")\n",
    "sc.tl.tsne(adata, n_pcs = 30)\n",
    "sc.pp.neighbors(adata, metric = 'cosine', n_neighbors = 60, use_rep = 'X')\n",
    "adata.write_h5ad(\n",
    "    f\"{datadir}{sample_name}_ut_scanpy_nn.h5ad\",\n",
    "    compression = hdf5plugin.FILTERS[\"zstd\"]\n",
    ")\n",
    "print(f\"Saved input {sample_name} data for MuTrans\")"
   ]
  }
 ],
 "metadata": {
  "kernelspec": {
   "display_name": "mt_311",
   "language": "python",
   "name": "mt_311"
  },
  "language_info": {
   "codemirror_mode": {
    "name": "ipython",
    "version": 3
   },
   "file_extension": ".py",
   "mimetype": "text/x-python",
   "name": "python",
   "nbconvert_exporter": "python",
   "pygments_lexer": "ipython3",
   "version": "3.11.0"
  }
 },
 "nbformat": 4,
 "nbformat_minor": 4
}
