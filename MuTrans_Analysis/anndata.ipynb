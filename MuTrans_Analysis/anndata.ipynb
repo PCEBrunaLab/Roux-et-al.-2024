{
 "cells": [
  {
   "cell_type": "code",
   "execution_count": 12,
   "id": "f6ba2aff",
   "metadata": {},
   "outputs": [],
   "source": [
    "import numpy as np\n",
    "import scanpy as sc\n",
    "\n",
    "import anndata2ri"
   ]
  },
  {
   "cell_type": "code",
   "execution_count": null,
   "id": "1cc44df4",
   "metadata": {},
   "outputs": [],
   "source": [
    "anndata2ri.activate()\n",
    "%load_ext rpy2.ipython\n",
    "sc.settings.verbosity = 3\n",
    "sc.logging.print_versions()"
   ]
  },
  {
   "cell_type": "code",
   "execution_count": 3,
   "id": "c5498058",
   "metadata": {},
   "outputs": [],
   "source": [
    "%%R -o ut_sce\n",
    "ut_sce <- readRDS(\"ut_sce.rds\")"
   ]
  },
  {
   "cell_type": "code",
   "execution_count": 4,
   "id": "86163086",
   "metadata": {},
   "outputs": [],
   "source": [
    "%%R -o cis_sce\n",
    "cis_sce <- readRDS(\"cis_sce.rds\")"
   ]
  },
  {
   "cell_type": "code",
   "execution_count": 5,
   "id": "f9fe35cb",
   "metadata": {},
   "outputs": [],
   "source": [
    "%%R -o jq1_sce\n",
    "jq1_sce <- readRDS(\"jq1_sce.rds\")"
   ]
  },
  {
   "cell_type": "code",
   "execution_count": null,
   "id": "d853c2fc",
   "metadata": {},
   "outputs": [],
   "source": [
    "ut_sce\n",
    "cis_sce\n",
    "jq1_sce"
   ]
  },
  {
   "cell_type": "code",
   "execution_count": 8,
   "id": "0ddf2d4c",
   "metadata": {},
   "outputs": [],
   "source": [
    "ut_sce.write_h5ad(\n",
    "    \"ut_anndata.h5ad\",\n",
    "    compression=hdf5plugin.FILTERS[\"zstd\"]\n",
    ")\n",
    "cis_sce.write_h5ad(\n",
    "    \"cis_anndata.h5ad\",\n",
    "    compression=hdf5plugin.FILTERS[\"zstd\"]\n",
    ")\n",
    "jq1_sce.write_h5ad(\n",
    "    \"jq1_anndata.h5ad\",\n",
    "    compression=hdf5plugin.FILTERS[\"zstd\"]\n",
    ")"
   ]
  }
 ],
 "metadata": {
  "kernelspec": {
   "display_name": "Python 3 (ipykernel)",
   "language": "python",
   "name": "python3"
  },
  "language_info": {
   "codemirror_mode": {
    "name": "ipython",
    "version": 3
   },
   "file_extension": ".py",
   "mimetype": "text/x-python",
   "name": "python",
   "nbconvert_exporter": "python",
   "pygments_lexer": "ipython3",
   "version": "3.11.7"
  }
 },
 "nbformat": 4,
 "nbformat_minor": 5
}
